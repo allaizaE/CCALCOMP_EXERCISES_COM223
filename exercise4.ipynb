{
  "cells": [
    {
      "cell_type": "markdown",
      "metadata": {
        "id": "view-in-github",
        "colab_type": "text"
      },
      "source": [
        "<a href=\"https://colab.research.google.com/github/allaizaE/CCALCOMP_EXERCISES_COM223/blob/main/exercise4.ipynb\" target=\"_parent\"><img src=\"https://colab.research.google.com/assets/colab-badge.svg\" alt=\"Open In Colab\"/></a>"
      ]
    },
    {
      "cell_type": "markdown",
      "metadata": {
        "id": "cPRRjBOhHHMh"
      },
      "source": [
        "# Exercise 4\n",
        "\n",
        "Please follow the instructions in each number."
      ]
    },
    {
      "cell_type": "markdown",
      "metadata": {
        "id": "zvDTNWRFHHMk"
      },
      "source": [
        "### Activity Selection Problem\n",
        "\n",
        "Given a set of activities, along with the starting and finishing time of each activity, find the maximum number of activities performed by a single person assuming that a person can only work on a single activity at a time.\n",
        "\n",
        "For example,\n",
        "\n",
        "Input: Following set of activities (1, 4), (3, 5), (0, 6), (5, 7), (3, 8), (5, 9), (6, 10), (8, 11), (8, 12), (2, 13), (12, 14)  \n",
        "\n",
        "Output: (1, 4), (5, 7), (8, 11), (12, 14)"
      ]
    },
    {
      "cell_type": "markdown",
      "metadata": {
        "id": "ff7w7YLGHHMl"
      },
      "source": [
        "## Tasks"
      ]
    },
    {
      "cell_type": "markdown",
      "metadata": {
        "id": "0QLHdoNSHHMl"
      },
      "source": [
        "1. Write a program using a recursive greedy approach to get the maximum number of activities (`50 points`)"
      ]
    },
    {
      "cell_type": "code",
      "execution_count": 1,
      "metadata": {
        "vscode": {
          "languageId": "plaintext"
        },
        "id": "Xe02cHvAHHMl",
        "colab": {
          "base_uri": "https://localhost:8080/"
        },
        "outputId": "4ca50966-e3ac-485c-9bcf-92b463123191"
      },
      "outputs": [
        {
          "output_type": "stream",
          "name": "stdout",
          "text": [
            "[(1, 4), (5, 7), (8, 11), (12, 14)]\n"
          ]
        }
      ],
      "source": [
        "def recursive_activity_selector(activities, selected_activities, k, n):  # ALLAIZA ERA COM223\n",
        "    m = k + 1\n",
        "    while m < n and activities[m][0] < activities[k][1]:\n",
        "        m += 1\n",
        "    if m < n:\n",
        "        selected_activities.append(activities[m])\n",
        "        return recursive_activity_selector(activities, selected_activities, m, n)\n",
        "    else:\n",
        "        return selected_activities\n",
        "\n",
        "def main_recursive():\n",
        "    activities = [(1, 4), (3, 5), (0, 6), (5, 7), (3, 8), (5, 9), (6, 10), (8, 11), (8, 12), (2, 13), (12, 14)]\n",
        "    activities.sort(key=lambda x: x[1])  # Sort activities based on their finishing times\n",
        "    selected_activities = [activities[0]]\n",
        "    max_activities = recursive_activity_selector(activities, selected_activities, 0, len(activities))\n",
        "    print(max_activities)\n",
        "\n",
        "main_recursive()"
      ]
    },
    {
      "cell_type": "markdown",
      "metadata": {
        "id": "eZe27u4LHHMn"
      },
      "source": [
        "2. Write a program using a iterative greedy approach to get the maximun number of activities (`50 points`)"
      ]
    },
    {
      "cell_type": "code",
      "execution_count": null,
      "metadata": {
        "vscode": {
          "languageId": "plaintext"
        },
        "id": "UrSZyQwEHHMn"
      },
      "outputs": [],
      "source": [
        "def iterative_activity_selector(activities): #ALLAIZA ERA COM223\n",
        "    activities.sort(key=lambda x: x[1])  # Sort activities based on their finishing times\n",
        "    n = len(activities)\n",
        "    selected_activities = [activities[0]]  # Always select the first activity\n",
        "\n",
        "    k = 0\n",
        "    for m in range(1, n):\n",
        "        if activities[m][0] >= activities[k][1]:\n",
        "            selected_activities.append(activities[m])\n",
        "            k = m\n",
        "\n",
        "    return selected_activities\n",
        "\n",
        "def main_iterative():\n",
        "    activities = [(1, 4), (3, 5), (0, 6), (5, 7), (3, 8), (5, 9), (6, 10), (8, 11), (8, 12), (2, 13), (12, 14)]\n",
        "    max_activities = iterative_activity_selector(activities)\n",
        "    print(max_activities)\n",
        "\n",
        "main_iterative()"
      ]
    }
  ],
  "metadata": {
    "colab": {
      "provenance": [],
      "include_colab_link": true
    },
    "kernelspec": {
      "display_name": "base",
      "language": "python",
      "name": "python3"
    },
    "language_info": {
      "codemirror_mode": {
        "name": "ipython",
        "version": 3
      },
      "file_extension": ".py",
      "mimetype": "text/x-python",
      "name": "python",
      "nbconvert_exporter": "python",
      "pygments_lexer": "ipython3",
      "version": "3.9.6"
    }
  },
  "nbformat": 4,
  "nbformat_minor": 0
}