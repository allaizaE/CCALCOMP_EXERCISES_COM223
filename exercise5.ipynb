{
  "cells": [
    {
      "cell_type": "markdown",
      "metadata": {
        "id": "view-in-github",
        "colab_type": "text"
      },
      "source": [
        "<a href=\"https://colab.research.google.com/github/allaizaE/CCALCOMP_EXERCISES_COM223/blob/main/exercise5.ipynb\" target=\"_parent\"><img src=\"https://colab.research.google.com/assets/colab-badge.svg\" alt=\"Open In Colab\"/></a>"
      ]
    },
    {
      "cell_type": "markdown",
      "metadata": {
        "id": "-8bYOEC8HOQ4"
      },
      "source": [
        "# Exercise 5\n",
        "\n",
        "Please follow the instructions in each number."
      ]
    },
    {
      "cell_type": "markdown",
      "metadata": {
        "id": "FEPXLUAPHOQ6"
      },
      "source": [
        "### Maximum Subarray\n",
        "Given an array of integers nums, find the subarray with the largest sum and return the sum.\n",
        "\n",
        "A subarray is a contiguous non-empty sequence of elements within an array.\n",
        "\n",
        "\n",
        "\n",
        "Example 1:\n",
        "\n",
        "Input: nums = [2,-3,4,-2,2,1,-1,4]\n",
        "\n",
        "Output: 8\n",
        "\n",
        "Explanation: The subarray [4,-2,2,1,-1,4] has the largest sum 8."
      ]
    },
    {
      "cell_type": "markdown",
      "metadata": {
        "id": "D4a-4yS4HOQ7"
      },
      "source": [
        "## Tasks"
      ]
    },
    {
      "cell_type": "markdown",
      "metadata": {
        "id": "v8mlE6kYHOQ7"
      },
      "source": [
        "1. Put your student number in a list and manually compute the maximum subarray in your student number (`10 points`)"
      ]
    },
    {
      "cell_type": "code",
      "execution_count": 2,
      "metadata": {
        "vscode": {
          "languageId": "plaintext"
        },
        "id": "YJMIVpuTHOQ8",
        "colab": {
          "base_uri": "https://localhost:8080/",
          "height": 106
        },
        "collapsed": true,
        "outputId": "2d77cc8f-f93a-4023-a0f2-8e31990b6eba"
      },
      "outputs": [
        {
          "output_type": "error",
          "ename": "SyntaxError",
          "evalue": "invalid syntax (<ipython-input-2-4cf51d1ff384>, line 2)",
          "traceback": [
            "\u001b[0;36m  File \u001b[0;32m\"<ipython-input-2-4cf51d1ff384>\"\u001b[0;36m, line \u001b[0;32m2\u001b[0m\n\u001b[0;31m    We can iterate through the list and compute the sums of all possible subarrays:\u001b[0m\n\u001b[0m       ^\u001b[0m\n\u001b[0;31mSyntaxError\u001b[0m\u001b[0;31m:\u001b[0m invalid syntax\n"
          ]
        }
      ],
      "source": [
        "#my student number is 2022-100924 so [2,0,2,2,1,0,0,9,2,4]\n",
        "We can iterate through the list and compute the sums of all possible subarrays:\n",
        "\n",
        "#computation\n",
        "[2] -> 2\n",
        "[2, 0] -> 2\n",
        "[2, 0, 2] -> 4\n",
        "[2, 0, 2, 2] -> 6\n",
        "[2, 0, 2, 2, 1] -> 7\n",
        "[2, 0, 2, 2, 1, 0] -> 7\n",
        "[2, 0, 2, 2, 1, 0, 0] -> 7\n",
        "[2, 0, 2, 2, 1, 0, 0, 9] -> 16\n",
        "[2, 0, 2, 2, 1, 0, 0, 9, 2] -> 18\n",
        "[2, 0, 2, 2, 1, 0, 0, 9, 2, 4] -> 22\n",
        "From this, we see that the maximum sum is 22 for the subarray [2, 0, 2, 2, 1, 0, 0, 9, 2, 4]."
      ]
    },
    {
      "cell_type": "markdown",
      "metadata": {
        "id": "nchQgI2KHOQ8"
      },
      "source": [
        "2. Write a program using a brute-force approach to get the maximum-subarray of your student number (`40 points`)"
      ]
    },
    {
      "cell_type": "code",
      "execution_count": null,
      "metadata": {
        "vscode": {
          "languageId": "plaintext"
        },
        "id": "b9P6oe11HOQ9"
      },
      "outputs": [],
      "source": [
        "def max_subarray_bruteforce(nums):\n",
        "    max_sum = float('-inf')\n",
        "    for i in range(len(nums)):\n",
        "        for j in range(i, len(nums)):\n",
        "            current_sum = sum(nums[i:j+1])\n",
        "            if current_sum > max_sum:\n",
        "                max_sum = current_sum\n",
        "    return max_sum\n",
        "\n",
        "# Student number list\n",
        "nums = [2, 0, 2, 2, 1, 0, 0, 9, 2, 4]\n",
        "print(\"Brute-Force Approach:\", max_subarray_bruteforce(nums))"
      ]
    },
    {
      "cell_type": "markdown",
      "metadata": {
        "id": "NkqAxIx_HOQ9"
      },
      "source": [
        "3. Write a program using a dynamic programming to get the maximum-subarray of your student number (`50 points`)"
      ]
    },
    {
      "cell_type": "code",
      "execution_count": null,
      "metadata": {
        "vscode": {
          "languageId": "plaintext"
        },
        "id": "BFBp2ARLHOQ9"
      },
      "outputs": [],
      "source": [
        "def max_subarray_kadane(nums):\n",
        "    max_current = max_global = nums[0]\n",
        "    for num in nums[1:]:\n",
        "        max_current = max(num, max_current + num)\n",
        "        if max_current > max_global:\n",
        "            max_global = max_current\n",
        "    return max_global\n",
        "\n",
        "# Student number list\n",
        "nums = [2, 0, 2, 2, 1, 0, 0, 9, 2, 4]\n",
        "print(\"Kadane's Algorithm:\", max_subarray_kadane(nums))"
      ]
    }
  ],
  "metadata": {
    "colab": {
      "provenance": [],
      "include_colab_link": true
    },
    "kernelspec": {
      "display_name": "base",
      "language": "python",
      "name": "python3"
    },
    "language_info": {
      "codemirror_mode": {
        "name": "ipython",
        "version": 3
      },
      "file_extension": ".py",
      "mimetype": "text/x-python",
      "name": "python",
      "nbconvert_exporter": "python",
      "pygments_lexer": "ipython3",
      "version": "3.9.6"
    }
  },
  "nbformat": 4,
  "nbformat_minor": 0
}